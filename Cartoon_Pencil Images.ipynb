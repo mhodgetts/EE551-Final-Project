{
 "cells": [
  {
   "cell_type": "code",
   "execution_count": 1,
   "metadata": {},
   "outputs": [],
   "source": [
    "# Final Project EE551_Engineering Programming_Python\n",
    "# Pencil function\n",
    "# Cartooning function\n"
   ]
  },
  {
   "cell_type": "code",
   "execution_count": 1,
   "metadata": {},
   "outputs": [],
   "source": [
    "import numpy as np\n",
    "import matplotlib.image as image\n",
    "import matplotlib.pyplot as plt\n",
    "import cv2\n"
   ]
  },
  {
   "cell_type": "code",
   "execution_count": 9,
   "metadata": {},
   "outputs": [],
   "source": [
    "# Images to consider\n",
    "#from PIL import Image\n",
    "# Self Potrail\n",
    "\n",
    "pic1=r'C:/Users/mhodg/Documents/Self_potriat.jpg'\n",
    "# Landscape\n",
    "pic2=r'C:/Users/mhodg/Documents/Day2_8.jpg'\n",
    "# Urban\n",
    "pic3=r'C:/Users/mhodg/Documents/Urban_2.jpg'\n",
    "# Nature\n",
    "pic4=r'C:/Users/mhodg/Documents/Day6_9.jpg'\n",
    "L=[pic1,pic2,pic3,pic4]\n",
    "\n"
   ]
  },
  {
   "cell_type": "code",
   "execution_count": 122,
   "metadata": {},
   "outputs": [],
   "source": [
    "#input_img = cv2.imread(pic,cv2.IMREAD_COLOR)\n",
    "#cv2.imshow('first',input_img)\n",
    "#cv2.waitKey(5000)\n",
    "#cv2.destroyAllWindows()"
   ]
  },
  {
   "cell_type": "code",
   "execution_count": 123,
   "metadata": {},
   "outputs": [],
   "source": [
    "# Pencil Image\n",
    "\n",
    "# Define Parameter\n",
    "# Blur_Value\n",
    "# Line_Size\n",
    "# Def Function\n",
    "x=0\n",
    "def pencil_img(blur_value,line_size):\n",
    "    for x in range(4):\n",
    "        \n",
    "        # reading input_images \n",
    "        input_img = cv2.imread(L[x])\n",
    "\n",
    "\n",
    "        # Edges\n",
    "        gray = cv2.cvtColor(input_img,cv2.COLOR_BGR2GRAY)\n",
    "        # Blur Value (x)\n",
    "        gray = cv2.medianBlur(gray, blur_value)\n",
    "        # line size and Blur Value (x,x)\n",
    "        edges = cv2.adaptiveThreshold(gray, 255, cv2.ADAPTIVE_THRESH_MEAN_C, \n",
    "                                             cv2.THRESH_BINARY,line_size, blur_value)\n",
    "\n",
    "        # Pencil Sketching\n",
    "\n",
    "        # Invert image\n",
    "        inverted_image = 255 - gray\n",
    "\n",
    "        blurred = cv2.GaussianBlur(inverted_image, (21, 21), 0)\n",
    "\n",
    "        inverted_blurred = 255 - blurred\n",
    "        pencil_sketch = cv2.divide(gray, inverted_blurred, scale=256.0)\n",
    "\n",
    "        for i in range(2):\n",
    "            if (i==0):\n",
    "                # with WINDOW_AUTOSIZE, window size is set automatically\n",
    "                cv2.namedWindow(\"Display_Original\", cv2.WINDOW_NORMAL)\n",
    "                cv2.resizeWindow(\"Display_Original\", 900, 1300)\n",
    "                cv2.imshow(\"Display_Original\", input_img)\n",
    "\n",
    "                cv2.waitKey(5000)\n",
    "            \n",
    "            else:\n",
    "            \n",
    "                cv2.namedWindow(\"Display_Pencil\", cv2.WINDOW_NORMAL)\n",
    "                cv2.resizeWindow(\"Display_Pencil\", 900, 1300)\n",
    "                cv2.imshow(\"Display_Pencil\", pencil_sketch)\n",
    "                cv2.waitKey(5000)\n",
    "\n",
    "            cv2.destroyAllWindows() "
   ]
  },
  {
   "cell_type": "code",
   "execution_count": 124,
   "metadata": {},
   "outputs": [],
   "source": [
    "# Image 1 Self Potrait\n",
    "pencil_img(5,9)"
   ]
  },
  {
   "cell_type": "code",
   "execution_count": 125,
   "metadata": {},
   "outputs": [],
   "source": [
    "# Cartoon"
   ]
  },
  {
   "cell_type": "code",
   "execution_count": 126,
   "metadata": {},
   "outputs": [],
   "source": [
    "# Cartoon Version\n",
    "\n",
    "# Define Parameters\n",
    "# Blur_Value\n",
    "# Line_Size\n",
    "\n",
    "x=0\n",
    "def cartoon_img(blur_value,line_size):\n",
    "    for x in range(4):\n",
    "        \n",
    "        # reading original view input_images \n",
    "        input_img = cv2.imread(L[x])\n",
    "\n",
    "        # Cartoonization\n",
    "        \n",
    "        # Edges\n",
    "        gray = cv2.cvtColor(input_img,cv2.COLOR_BGR2GRAY)\n",
    "        # Blur Value (x)\n",
    "        gray = cv2.medianBlur(gray, blur_value)\n",
    "        # line size and Blur Value (x,x)\n",
    "        edges = cv2.adaptiveThreshold(gray, 255, cv2.ADAPTIVE_THRESH_MEAN_C, \n",
    "                                             cv2.THRESH_BINARY,line_size, blur_value)\n",
    "        \n",
    "        #gray_blur = cv2.medianBlur(gray, blur_value,sigmaColor=200,sigmaSpace=200)\n",
    "        color = cv2.bilateralFilter(input_img, blur_value, 250, 250)\n",
    "        cartoon_sketch = cv2.bitwise_and(color, color, mask=edges)\n",
    "        \n",
    "        for i in range(2):\n",
    "            if (i==0):\n",
    "                # with WINDOW_AUTOSIZE, window size is set automatically\n",
    "                cv2.namedWindow(\"Display_Original\", cv2.WINDOW_NORMAL)\n",
    "                cv2.resizeWindow(\"Display_Original\", 900, 1300)\n",
    "                cv2.imshow(\"Display_Original\", input_img)\n",
    "\n",
    "                cv2.waitKey(5000)\n",
    "            \n",
    "            else:\n",
    "            \n",
    "                cv2.namedWindow(\"Display_Cartoon\", cv2.WINDOW_NORMAL)\n",
    "                cv2.resizeWindow(\"Display_Cartoon\", 900, 1300)\n",
    "                cv2.imshow(\"Display_Cartoon\", cartoon_sketch)\n",
    "                cv2.waitKey(5000)\n",
    "\n",
    "            cv2.destroyAllWindows() \n",
    "\n",
    "        "
   ]
  },
  {
   "cell_type": "code",
   "execution_count": 129,
   "metadata": {},
   "outputs": [],
   "source": [
    "cartoon_img(5,7)"
   ]
  },
  {
   "cell_type": "code",
   "execution_count": 65,
   "metadata": {},
   "outputs": [],
   "source": []
  },
  {
   "cell_type": "code",
   "execution_count": 90,
   "metadata": {},
   "outputs": [],
   "source": [
    "import numpy\n",
    "import cv2 \n",
    "for i in range(3): \n",
    "    img = cv2.imread(L[i]) \n",
    "    newsize = (30, 30)\n",
    "    img=cv2.resize(img, newsize)\n",
    "\n",
    "    tile = numpy.tile(img,(3,3,1));\n",
    "    cv2.imshow('Tile', tile)\n",
    "\n",
    "    cv2.waitKey(5000)\n",
    "    cv2.destroyAllWindows()"
   ]
  },
  {
   "cell_type": "code",
   "execution_count": 54,
   "metadata": {},
   "outputs": [
    {
     "data": {
      "text/plain": [
       "PIL.Image.Image"
      ]
     },
     "execution_count": 54,
     "metadata": {},
     "output_type": "execute_result"
    }
   ],
   "source": [
    "type(back_im)"
   ]
  },
  {
   "cell_type": "code",
   "execution_count": 51,
   "metadata": {},
   "outputs": [
    {
     "ename": "TypeError",
     "evalue": "'list' object is not callable",
     "output_type": "error",
     "traceback": [
      "\u001b[1;31m---------------------------------------------------------------------------\u001b[0m",
      "\u001b[1;31mTypeError\u001b[0m                                 Traceback (most recent call last)",
      "\u001b[1;32m<ipython-input-51-a5ea2bda48b9>\u001b[0m in \u001b[0;36m<module>\u001b[1;34m\u001b[0m\n\u001b[0;32m     21\u001b[0m     \u001b[1;31m#for h in range(9):\u001b[0m\u001b[1;33m\u001b[0m\u001b[1;33m\u001b[0m\u001b[1;33m\u001b[0m\u001b[0m\n\u001b[0;32m     22\u001b[0m \u001b[1;33m\u001b[0m\u001b[0m\n\u001b[1;32m---> 23\u001b[1;33m         \u001b[0mmosiac_list\u001b[0m\u001b[1;33m[\u001b[0m\u001b[0mg\u001b[0m\u001b[1;33m]\u001b[0m\u001b[1;33m=\u001b[0m\u001b[0mmosiac_list\u001b[0m\u001b[1;33m(\u001b[0m\u001b[0mg\u001b[0m\u001b[1;33m-\u001b[0m\u001b[1;36m1\u001b[0m\u001b[1;33m)\u001b[0m\u001b[1;33m.\u001b[0m\u001b[0mpaste\u001b[0m\u001b[1;33m(\u001b[0m\u001b[0mmosiac_list\u001b[0m\u001b[1;33m[\u001b[0m\u001b[0mg\u001b[0m\u001b[1;33m]\u001b[0m\u001b[1;33m)\u001b[0m\u001b[1;33m\u001b[0m\u001b[1;33m\u001b[0m\u001b[0m\n\u001b[0m\u001b[0;32m     24\u001b[0m \u001b[0mPrint\u001b[0m\u001b[1;33m(\u001b[0m\u001b[0mmosiac_list\u001b[0m\u001b[1;33m)\u001b[0m\u001b[1;33m\u001b[0m\u001b[1;33m\u001b[0m\u001b[0m\n\u001b[0;32m     25\u001b[0m \u001b[1;33m\u001b[0m\u001b[0m\n",
      "\u001b[1;31mTypeError\u001b[0m: 'list' object is not callable"
     ]
    }
   ],
   "source": [
    "from PIL import Image, ImageDraw, ImageFilter\n",
    "\n",
    "im1 = Image.open(pic1)\n",
    "# Size of the image in pixels (size of original image)\n",
    "# (This is not mandatory)\n",
    "width, height = im1.size\n",
    "im2 = Image.open(pic2)\n",
    "newsize = (100, 100)\n",
    "im2 = im2.resize(newsize)\n",
    "newsize = (900, 900)\n",
    "im1=im1.resize(newsize)\n",
    "back_im = im1.copy()\n",
    "mosiac_list=[]\n",
    "\n",
    "for x in range(1,100,900):\n",
    "    for y in range(1,100,900):\n",
    "        \n",
    "        mosiac_list.append(back_im.paste(im2,(1,1)))\n",
    "        \n",
    "for g in range(82):\n",
    "    #for h in range(9):\n",
    "        \n",
    "        mosiac_list[g]=mosiac_list(g-1).paste(mosiac_list[g])\n",
    "Print(mosiac_list)\n",
    "\n",
    "        \n",
    "\n",
    "##back_im.save('C:/Users/mhodg/Documents/mosiac.jpg', quality=95)\n",
    "        \n",
    "\n",
    "\n"
   ]
  },
  {
   "cell_type": "code",
   "execution_count": 41,
   "metadata": {},
   "outputs": [
    {
     "name": "stdout",
     "output_type": "stream",
     "text": [
      "[None]\n"
     ]
    }
   ],
   "source": [
    "type(mosiac_list)\n"
   ]
  },
  {
   "cell_type": "code",
   "execution_count": 27,
   "metadata": {},
   "outputs": [],
   "source": [
    "im1.paste(im2)\n",
    "im1.save('C:/Users/mhodg/Documents/rocket_pillow_paste.jpg', quality=95)\n"
   ]
  },
  {
   "cell_type": "code",
   "execution_count": 96,
   "metadata": {},
   "outputs": [],
   "source": [
    "# importing image object from PIL\n",
    "# Drawing a box\n",
    "import math\n",
    "from PIL import Image, ImageDraw\n",
    "  \n",
    "w, h = 20, 20\n",
    "shape = [(40, 40), (w - 5, h - 5)]\n",
    "  \n",
    "# creating new Image object\n",
    "img = Image.new(\"RGB\", (w, h))\n",
    "  \n",
    "# create rectangle image\n",
    "img1 = ImageDraw.Draw(img)  \n",
    "img1.rectangle(shape, fill =\"blue\", outline =\"red\")\n",
    "img.show()"
   ]
  },
  {
   "cell_type": "code",
   "execution_count": 101,
   "metadata": {},
   "outputs": [],
   "source": [
    "import cv2\n",
    "import math\n",
    "\n",
    "img = cv2.imread(pic1) # 512x512\n",
    "\n",
    "img_shape = img.shape\n",
    "tile_size = (256, 256)\n",
    "offset = (256, 256)\n",
    "\n",
    "for i in range(int(math.ceil(img_shape[0]/(offset[1] * 1.0)))):\n",
    "    for j in range(int(math.ceil(img_shape[1]/(offset[0] * 1.0)))):\n",
    "        cropped_img = img[offset[1]*i:min(offset[1]*i+tile_size[1], img_shape[0]), offset[0]*j:min(offset[0]*j+tile_size[0], img_shape[1])]\n",
    "        # Debugging the tiles\n",
    "        cv2.imwrite(\"debug_\" + str(i) + \"_\" + str(j) + \".png\", cropped_img)"
   ]
  },
  {
   "cell_type": "code",
   "execution_count": 105,
   "metadata": {},
   "outputs": [
    {
     "name": "stdout",
     "output_type": "stream",
     "text": [
      "pos 0,0 size 300,400\n",
      "pos 0,400 size 400,300\n",
      "pos 400,0 size 400,250\n"
     ]
    }
   ],
   "source": [
    "# Combine multiple images into one.\n",
    "#\n",
    "# To install the Pillow module on Mac OS X:\n",
    "#\n",
    "# $ xcode-select --install\n",
    "# $ brew install libtiff libjpeg webp little-cms2\n",
    "# $ pip install Pillow\n",
    "#\n",
    "\n",
    "from __future__ import print_function\n",
    "import os\n",
    "\n",
    "from PIL import Image\n",
    "\n",
    "files = [\n",
    "  pic1,pic2,pic3]\n",
    "\n",
    "result = Image.new(\"RGB\", (800, 800))\n",
    "\n",
    "for index, file in enumerate(files):\n",
    "  path = os.path.expanduser(file)\n",
    "  img = Image.open(path)\n",
    "  img.thumbnail((400, 400), Image.ANTIALIAS)\n",
    "  x = index // 2 * 400\n",
    "  y = index % 2 * 400\n",
    "  w, h = img.size\n",
    "  print('pos {0},{1} size {2},{3}'.format(x, y, w, h))\n",
    "  result.paste(img, (x, y, x + w, y + h))\n",
    "result.show()\n"
   ]
  },
  {
   "cell_type": "code",
   "execution_count": 107,
   "metadata": {},
   "outputs": [],
   "source": [
    "def setup():\n",
    "  global img\n",
    "  size(320,240)\n",
    "  # Make a new instance of a PImage by loading an image file\n",
    "  # Declaring a variable of type PImage\n",
    "  img = loadImage(pic1)\n",
    "\n",
    "def draw():\n",
    "  global img\n",
    "  background(0);\n",
    "  # Draw the image to the screen at coordinate (0,0)\n",
    "  image(img,0,0)"
   ]
  },
  {
   "cell_type": "code",
   "execution_count": 106,
   "metadata": {},
   "outputs": [],
   "source": [
    "def setup():\n",
    "    size(200, 200)\n",
    "    # Before we deal with pixels\n",
    "    loadPixels()\n",
    "    changePixels()\n",
    "     \n",
    "def changePixels():\n",
    "    # Loop through every pixel\n",
    "    for i in range(len(pixels)):\n",
    "        # Pick a random number, 0 to 255\n",
    "        rand = random(255)\n",
    "        # Create a grayscale color based on random number\n",
    "        c = color(rand)\n",
    "        # Set pixel at that location to random color\n",
    "        pixels[i] = c\n",
    "\n",
    "    # When we are finished dealing with pixels\n",
    "    updatePixels()"
   ]
  },
  {
   "cell_type": "code",
   "execution_count": 118,
   "metadata": {},
   "outputs": [],
   "source": [
    "cellsize = 2 # Dimensions of each cell in the grid\n",
    "\n",
    "def setup():\n",
    "    global img, cols, rows, cellsize\n",
    "    size(200, 200, P3D) \n",
    "    img  = loadImage(pic1)  # Load the source image\n",
    "    cols = width/cellsize              # Calculate number of columns\n",
    "    rows = height/cellsize             # Calculate number of rows\n",
    "\n",
    "def draw():\n",
    "    global img, cols, rows, cellsize\n",
    "\n",
    "    background(0)\n",
    "    loadPixels()\n",
    "    # Begin loop for columns\n",
    "    for i in range(cols):\n",
    "        # Begin loop for rows\n",
    "        for j in range(rows):\n",
    "            x = i*cellsize + cellsize/2  # x position\n",
    "            y = j*cellsize + cellsize/2  # y position\n",
    "            loc = x + y*width            # Pixel array location\n",
    "            c = img.pixels[loc]          # Grab the color\n",
    "            # Calculate a z position as a function of mouseX and pixel brightness\n",
    "            z = (mouseX/(float(width))) * brightness(img.pixels[loc]) - 100.0\n",
    "            # Translate to the location, set fill and stroke, and draw the rect\n",
    "            pushMatrix()\n",
    "            translate(x,y,z)\n",
    "            fill(c)\n",
    "            noStroke()\n",
    "            rectMode(CENTER)\n",
    "            rect(0,0,cellsize,cellsize)\n",
    "            popMatrix()"
   ]
  },
  {
   "cell_type": "code",
   "execution_count": 120,
   "metadata": {},
   "outputs": [
    {
     "ename": "NameError",
     "evalue": "name 'background' is not defined",
     "output_type": "error",
     "traceback": [
      "\u001b[1;31m---------------------------------------------------------------------------\u001b[0m",
      "\u001b[1;31mNameError\u001b[0m                                 Traceback (most recent call last)",
      "\u001b[1;32m<ipython-input-120-2bb613d5f479>\u001b[0m in \u001b[0;36m<module>\u001b[1;34m\u001b[0m\n\u001b[1;32m----> 1\u001b[1;33m \u001b[0mdraw\u001b[0m\u001b[1;33m(\u001b[0m\u001b[1;33m)\u001b[0m\u001b[1;33m\u001b[0m\u001b[1;33m\u001b[0m\u001b[0m\n\u001b[0m",
      "\u001b[1;32m<ipython-input-118-2e57e69fc5e7>\u001b[0m in \u001b[0;36mdraw\u001b[1;34m()\u001b[0m\n\u001b[0;32m     11\u001b[0m     \u001b[1;32mglobal\u001b[0m \u001b[0mimg\u001b[0m\u001b[1;33m,\u001b[0m \u001b[0mcols\u001b[0m\u001b[1;33m,\u001b[0m \u001b[0mrows\u001b[0m\u001b[1;33m,\u001b[0m \u001b[0mcellsize\u001b[0m\u001b[1;33m\u001b[0m\u001b[1;33m\u001b[0m\u001b[0m\n\u001b[0;32m     12\u001b[0m \u001b[1;33m\u001b[0m\u001b[0m\n\u001b[1;32m---> 13\u001b[1;33m     \u001b[0mbackground\u001b[0m\u001b[1;33m(\u001b[0m\u001b[1;36m0\u001b[0m\u001b[1;33m)\u001b[0m\u001b[1;33m\u001b[0m\u001b[1;33m\u001b[0m\u001b[0m\n\u001b[0m\u001b[0;32m     14\u001b[0m     \u001b[0mloadPixels\u001b[0m\u001b[1;33m(\u001b[0m\u001b[1;33m)\u001b[0m\u001b[1;33m\u001b[0m\u001b[1;33m\u001b[0m\u001b[0m\n\u001b[0;32m     15\u001b[0m     \u001b[1;31m# Begin loop for columns\u001b[0m\u001b[1;33m\u001b[0m\u001b[1;33m\u001b[0m\u001b[1;33m\u001b[0m\u001b[0m\n",
      "\u001b[1;31mNameError\u001b[0m: name 'background' is not defined"
     ]
    }
   ],
   "source": [
    "draw()"
   ]
  },
  {
   "cell_type": "code",
   "execution_count": 131,
   "metadata": {},
   "outputs": [
    {
     "ename": "error",
     "evalue": "OpenCV(4.5.3) C:\\Users\\runneradmin\\AppData\\Local\\Temp\\pip-req-build-c2l3r8zm\\opencv\\modules\\imgproc\\src\\color.cpp:182: error: (-215:Assertion failed) !_src.empty() in function 'cv::cvtColor'\n",
     "output_type": "error",
     "traceback": [
      "\u001b[1;31m---------------------------------------------------------------------------\u001b[0m",
      "\u001b[1;31merror\u001b[0m                                     Traceback (most recent call last)",
      "\u001b[1;32m<ipython-input-131-e0e198c9bcc2>\u001b[0m in \u001b[0;36m<module>\u001b[1;34m\u001b[0m\n\u001b[1;32m----> 1\u001b[1;33m \u001b[1;32mimport\u001b[0m \u001b[0mCartoon\u001b[0m\u001b[1;33m\u001b[0m\u001b[1;33m\u001b[0m\u001b[0m\n\u001b[0m",
      "\u001b[1;32m~\\Cartoon.py\u001b[0m in \u001b[0;36m<module>\u001b[1;34m\u001b[0m\n\u001b[0;32m     60\u001b[0m             \u001b[0mcv2\u001b[0m\u001b[1;33m.\u001b[0m\u001b[0mdestroyAllWindows\u001b[0m\u001b[1;33m(\u001b[0m\u001b[1;33m)\u001b[0m\u001b[1;33m\u001b[0m\u001b[1;33m\u001b[0m\u001b[0m\n\u001b[0;32m     61\u001b[0m \u001b[1;33m\u001b[0m\u001b[0m\n\u001b[1;32m---> 62\u001b[1;33m \u001b[0mcartoon_img\u001b[0m\u001b[1;33m(\u001b[0m\u001b[1;36m5\u001b[0m\u001b[1;33m,\u001b[0m\u001b[1;36m7\u001b[0m\u001b[1;33m,\u001b[0m\u001b[1;34m\"Pencil_Cartoon_Images/\"\u001b[0m\u001b[1;33m)\u001b[0m\u001b[1;33m\u001b[0m\u001b[1;33m\u001b[0m\u001b[0m\n\u001b[0m",
      "\u001b[1;32m~\\Cartoon.py\u001b[0m in \u001b[0;36mcartoon_img\u001b[1;34m(blur_value, line_size, image_location)\u001b[0m\n\u001b[0;32m     31\u001b[0m \u001b[1;33m\u001b[0m\u001b[0m\n\u001b[0;32m     32\u001b[0m         \u001b[1;31m# Edges\u001b[0m\u001b[1;33m\u001b[0m\u001b[1;33m\u001b[0m\u001b[1;33m\u001b[0m\u001b[0m\n\u001b[1;32m---> 33\u001b[1;33m         \u001b[0mgray\u001b[0m \u001b[1;33m=\u001b[0m \u001b[0mcv2\u001b[0m\u001b[1;33m.\u001b[0m\u001b[0mcvtColor\u001b[0m\u001b[1;33m(\u001b[0m\u001b[0minput_img\u001b[0m\u001b[1;33m,\u001b[0m\u001b[0mcv2\u001b[0m\u001b[1;33m.\u001b[0m\u001b[0mCOLOR_BGR2GRAY\u001b[0m\u001b[1;33m)\u001b[0m\u001b[1;33m\u001b[0m\u001b[1;33m\u001b[0m\u001b[0m\n\u001b[0m\u001b[0;32m     34\u001b[0m         \u001b[1;31m# Blur Value (x)\u001b[0m\u001b[1;33m\u001b[0m\u001b[1;33m\u001b[0m\u001b[1;33m\u001b[0m\u001b[0m\n\u001b[0;32m     35\u001b[0m         \u001b[0mgray\u001b[0m \u001b[1;33m=\u001b[0m \u001b[0mcv2\u001b[0m\u001b[1;33m.\u001b[0m\u001b[0mmedianBlur\u001b[0m\u001b[1;33m(\u001b[0m\u001b[0mgray\u001b[0m\u001b[1;33m,\u001b[0m \u001b[0mblur_value\u001b[0m\u001b[1;33m)\u001b[0m\u001b[1;33m\u001b[0m\u001b[1;33m\u001b[0m\u001b[0m\n",
      "\u001b[1;31merror\u001b[0m: OpenCV(4.5.3) C:\\Users\\runneradmin\\AppData\\Local\\Temp\\pip-req-build-c2l3r8zm\\opencv\\modules\\imgproc\\src\\color.cpp:182: error: (-215:Assertion failed) !_src.empty() in function 'cv::cvtColor'\n"
     ]
    }
   ],
   "source": [
    "import Cartoon"
   ]
  },
  {
   "cell_type": "code",
   "execution_count": 51,
   "metadata": {},
   "outputs": [],
   "source": [
    "# Final Project EE551_Engineering Programming_Python\n",
    "# Cartooning function\n",
    "\n",
    "import numpy as np\n",
    "import matplotlib.image as image\n",
    "import matplotlib.pyplot as plt\n",
    "import cv2\n",
    "\n",
    "# Cartoon Version\n",
    "\n",
    "# Define Parameters\n",
    "# Blur_Value\n",
    "# Line_Size\n",
    "\n",
    "x=0\n",
    "def cartoon_img(blur_value,line_size,image_location):\n",
    "    pic1=image_location + \"Self_potriat.jpg\"\n",
    "    # Landscape\n",
    "    pic2=image_location + \"Day2_8.jpg\"\n",
    "    # Urban\n",
    "    pic3=image_location + \"Urban_2.jpg\"\n",
    "    # Nature\n",
    "    pic4=image_location + \"Day6_9.jpg\"\n",
    "    L=[pic1,pic2,pic3,pic4]\n",
    "    for x in range(4):\n",
    "        \n",
    "        # reading original view input_images \n",
    "        input_img = cv2.imread(L[x])\n",
    "\n",
    "        # Cartoonization\n",
    "        \n",
    "        # Edges\n",
    "        gray = cv2.cvtColor(input_img,cv2.COLOR_BGR2GRAY)\n",
    "        # Blur Value (x)\n",
    "        gray = cv2.medianBlur(gray, blur_value)\n",
    "        # line size and Blur Value (x,x)\n",
    "        edges = cv2.adaptiveThreshold(gray, 255, cv2.ADAPTIVE_THRESH_MEAN_C, \n",
    "                                             cv2.THRESH_BINARY,line_size, blur_value)\n",
    "        \n",
    "        #gray_blur = cv2.medianBlur(gray, blur_value,sigmaColor=200,sigmaSpace=200)\n",
    "        color = cv2.bilateralFilter(input_img, blur_value, 250, 250)\n",
    "        cartoon_sketch = cv2.bitwise_and(color, color, mask=edges)\n",
    "        \n",
    "        for i in range(2):\n",
    "            if (i==0):\n",
    "                # with WINDOW_AUTOSIZE, window size is set automatically\n",
    "                cv2.namedWindow(\"Display_Original\", cv2.WINDOW_NORMAL)\n",
    "                cv2.resizeWindow(\"Display_Original\", 900, 1000)\n",
    "                cv2.imshow(\"Display_Original\", input_img)\n",
    "\n",
    "                cv2.waitKey(5000)\n",
    "            \n",
    "            else:\n",
    "            \n",
    "                cv2.namedWindow(\"Display_Cartoon\", cv2.WINDOW_NORMAL)\n",
    "                cv2.resizeWindow(\"Display_Cartoon\", 900, 1000)\n",
    "                cv2.imshow(\"Display_Cartoon\", cartoon_sketch)\n",
    "                cv2.waitKey(5000)\n",
    "\n",
    "            cv2.destroyAllWindows()\n",
    "\n",
    "cartoon_img(5,7,\"C:/Users/mhodg/Documents/\")"
   ]
  },
  {
   "cell_type": "code",
   "execution_count": 50,
   "metadata": {},
   "outputs": [
    {
     "ename": "SyntaxError",
     "evalue": "EOL while scanning string literal (<ipython-input-50-626fe83d630a>, line 1)",
     "output_type": "error",
     "traceback": [
      "\u001b[1;36m  File \u001b[1;32m\"<ipython-input-50-626fe83d630a>\"\u001b[1;36m, line \u001b[1;32m1\u001b[0m\n\u001b[1;33m    pic1=\"r'\"+ \"C:/Users/mhodg/Documents/Self_potriat.jpg\"+'\u001b[0m\n\u001b[1;37m                                                            ^\u001b[0m\n\u001b[1;31mSyntaxError\u001b[0m\u001b[1;31m:\u001b[0m EOL while scanning string literal\n"
     ]
    }
   ],
   "source": [
    "pic1=\"r'\"+ \"C:/Users/mhodg/Documents/Self_potriat.jpg\"+'\n",
    "#open('C:/Users/mhodg/Documents/Self_potrait.jpg','r')"
   ]
  },
  {
   "cell_type": "code",
   "execution_count": 47,
   "metadata": {},
   "outputs": [
    {
     "data": {
      "text/plain": [
       "NoneType"
      ]
     },
     "execution_count": 47,
     "metadata": {},
     "output_type": "execute_result"
    }
   ],
   "source": [
    "input_img = cv2.imread(pic1)\n",
    "type(input_img)"
   ]
  },
  {
   "cell_type": "code",
   "execution_count": 48,
   "metadata": {},
   "outputs": [
    {
     "ename": "error",
     "evalue": "OpenCV(4.5.3) C:\\Users\\runneradmin\\AppData\\Local\\Temp\\pip-req-build-c2l3r8zm\\opencv\\modules\\imgproc\\src\\color.cpp:182: error: (-215:Assertion failed) !_src.empty() in function 'cv::cvtColor'\n",
     "output_type": "error",
     "traceback": [
      "\u001b[1;31m---------------------------------------------------------------------------\u001b[0m",
      "\u001b[1;31merror\u001b[0m                                     Traceback (most recent call last)",
      "\u001b[1;32m<ipython-input-48-47d76eb95578>\u001b[0m in \u001b[0;36m<module>\u001b[1;34m\u001b[0m\n\u001b[0;32m      1\u001b[0m \u001b[0mcv2\u001b[0m\u001b[1;33m.\u001b[0m\u001b[0mnamedWindow\u001b[0m\u001b[1;33m(\u001b[0m\u001b[1;34m\"original\"\u001b[0m\u001b[1;33m,\u001b[0m \u001b[0mcv2\u001b[0m\u001b[1;33m.\u001b[0m\u001b[0mWINDOW_NORMAL\u001b[0m\u001b[1;33m)\u001b[0m\u001b[1;33m\u001b[0m\u001b[1;33m\u001b[0m\u001b[0m\n\u001b[1;32m----> 2\u001b[1;33m \u001b[0mcv2\u001b[0m\u001b[1;33m.\u001b[0m\u001b[0mimshow\u001b[0m\u001b[1;33m(\u001b[0m\u001b[1;34m'original'\u001b[0m\u001b[1;33m,\u001b[0m\u001b[0minput_img\u001b[0m\u001b[1;33m)\u001b[0m\u001b[1;33m\u001b[0m\u001b[1;33m\u001b[0m\u001b[0m\n\u001b[0m\u001b[0;32m      3\u001b[0m \u001b[0mcv2\u001b[0m\u001b[1;33m.\u001b[0m\u001b[0mwaitKey\u001b[0m\u001b[1;33m(\u001b[0m\u001b[1;36m5000\u001b[0m\u001b[1;33m)\u001b[0m\u001b[1;33m\u001b[0m\u001b[1;33m\u001b[0m\u001b[0m\n\u001b[0;32m      4\u001b[0m \u001b[0mcv2\u001b[0m\u001b[1;33m.\u001b[0m\u001b[0mdestroyAllWindows\u001b[0m\u001b[1;33m(\u001b[0m\u001b[1;33m)\u001b[0m\u001b[1;33m\u001b[0m\u001b[1;33m\u001b[0m\u001b[0m\n",
      "\u001b[1;31merror\u001b[0m: OpenCV(4.5.3) C:\\Users\\runneradmin\\AppData\\Local\\Temp\\pip-req-build-c2l3r8zm\\opencv\\modules\\imgproc\\src\\color.cpp:182: error: (-215:Assertion failed) !_src.empty() in function 'cv::cvtColor'\n"
     ]
    }
   ],
   "source": [
    "cv2.namedWindow(\"original\", cv2.WINDOW_NORMAL)\n",
    "cv2.imshow('original',input_img)\n",
    "cv2.waitKey(5000)\n",
    "cv2.destroyAllWindows()"
   ]
  },
  {
   "cell_type": "code",
   "execution_count": null,
   "metadata": {},
   "outputs": [],
   "source": []
  }
 ],
 "metadata": {
  "kernelspec": {
   "display_name": "Python 3",
   "language": "python",
   "name": "python3"
  },
  "language_info": {
   "codemirror_mode": {
    "name": "ipython",
    "version": 3
   },
   "file_extension": ".py",
   "mimetype": "text/x-python",
   "name": "python",
   "nbconvert_exporter": "python",
   "pygments_lexer": "ipython3",
   "version": "3.7.3"
  }
 },
 "nbformat": 4,
 "nbformat_minor": 2
}
